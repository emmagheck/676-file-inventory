{
 "cells": [
  {
   "cell_type": "markdown",
   "metadata": {},
   "source": [
    "# Requirements\n",
    "### the relative path to each file\n",
    "### the file name\n",
    "### file extension\n",
    "### file size\n",
    "### last modified time\n",
    "### file integrity information (at least one hash digest)."
   ]
  },
  {
   "cell_type": "code",
   "execution_count": 47,
   "metadata": {},
   "outputs": [],
   "source": [
    "os.getcwd()\n",
    "import os\n",
    "import csv\n",
    "import datetime"
   ]
  },
  {
   "cell_type": "code",
   "execution_count": 40,
   "metadata": {},
   "outputs": [],
   "source": [
    "import hashlib \n",
    "# md5digest = getchecksum(walk_this_directory, 'md5')\n",
    "\n",
    "def get_checksum(filePath, checksum_type):\n",
    "\n",
    "    checksum_type = checksum_type.lower()\n",
    "\n",
    "    with open(filePath, 'rb') as f:\n",
    "        bytes = f.read()\n",
    "        if checksum_type == 'md5':\n",
    "            hash_string = hashlib.md5(bytes).hexdigest()\n",
    "        elif checksum_type == 'sha256':\n",
    "            hash_string = hashlib.sha256(bytes).hexdigest()\n",
    "        else:\n",
    "            raise('{} is not a hash function supported by this program. You must ask for MD5.')\n",
    "    return hash_string"
   ]
  },
  {
   "cell_type": "code",
   "execution_count": 51,
   "metadata": {},
   "outputs": [
    {
     "name": "stdout",
     "output_type": "stream",
     "text": [
      "[['.DS_Store', 'data/webfiles-samples/.DS_Store', '', '2023-10-30T17:25:37', '8b24aa1015f42ff5b68b0e41edf705ce', 6148], ['web-files-small-metadata.csv', 'data/webfiles-samples/web-files-small-metadata.csv', '.csv', '2023-10-29T18:56:50', '8b82804b255dbc9e049857ddce66aaf2', 9069], ['vlwhcssc.asx', 'data/webfiles-samples/video/vlwhcssc.asx', '.asx', '2023-10-29T18:56:50', 'c4af1d1687ff8f1a2f027bb04eec471b', 356], ['04-04-21full.asf', 'data/webfiles-samples/video/04-04-21full.asf', '.asf', '2023-10-29T18:56:50', '26888193625f2011edcea74b12d1b8bb', 98], ['glmp_cig.EQ.wm.p20.t12z', 'data/webfiles-samples/video/glmp_cig.EQ.wm.p20.t12z', '.t12z', '2023-10-29T18:56:50', '4b176dbcf901676ab7c9cd8e739d1b3b', 8296], ['oct17cc.asx', 'data/webfiles-samples/video/oct17cc.asx', '.asx', '2023-10-29T18:56:50', '50727117109742107c6bef3e31ff1690', 106945], ['01-1480.pdf', 'data/webfiles-samples/pdf/01-1480.pdf', '.pdf', '2023-10-29T18:56:50', '01c8ed0f4635e7974734087ffec0087d', 49088], ['file.pdf', 'data/webfiles-samples/pdf/file.pdf', '.pdf', '2023-10-29T18:56:50', 'b76bb219e68469283095b12a0b6aef2c', 1538], ['Chapter03.pdf', 'data/webfiles-samples/pdf/Chapter03.pdf', '.pdf', '2023-10-29T18:56:50', 'b4c4ac3b610fc0057ef57acaace0c78a', 51919], ['PFCHEJ.pdf', 'data/webfiles-samples/pdf/PFCHEJ.pdf', '.pdf', '2023-10-29T18:56:50', 'fec5b4c417432aa2de0a482186f3d9d5', 10577], ['HR2021 commtext.pdf', 'data/webfiles-samples/pdf/HR2021 commtext.pdf', '.pdf', '2023-10-29T18:56:50', '1de98a2344bec62c650f8adb4b8f33e0', 36305], ['13080t.jpg', 'data/webfiles-samples/image/13080t.jpg', '.jpg', '2023-10-29T18:56:50', '761b75f922ba4d5336c686d64762bd9d', 3764], ['orca.via_.moc_.noaa_.jpg', 'data/webfiles-samples/image/orca.via_.moc_.noaa_.jpg', '.jpg', '2023-10-29T18:56:50', '8dcb7f9f0b452054e79b0d3d6736d782', 82546], ['k7989-7x.jpg', 'data/webfiles-samples/image/k7989-7x.jpg', '.jpg', '2023-10-29T18:56:50', '3999ce5979decabcb81adcb969b8249a', 7864], ['m237a2f.gif', 'data/webfiles-samples/image/m237a2f.gif', '.gif', '2023-10-29T18:56:50', '1fe4be82b1896108055b183c384c1f07', 7376], ['1005107061.tif', 'data/webfiles-samples/image/1005107061.tif', '.tif', '2023-10-29T18:56:50', '71a29e5cb072bd100d945298e78abde5', 395734], ['11-3250JohnsonvFolinoEtAl.wma', 'data/webfiles-samples/audio/11-3250JohnsonvFolinoEtAl.wma', '.wma', '2023-10-29T18:56:50', '0822287ef2af6e97ead980c771bb8f97', 21423499], ['NEWSLINE_802AF71F439D401585C6FCB02F358307.mp3', 'data/webfiles-samples/audio/NEWSLINE_802AF71F439D401585C6FCB02F358307.mp3', '.mp3', '2023-10-29T18:56:50', 'ad49bb75ecd85c86d8d4a2b418ce83cf', 961195], ['mj_telework_exchange_final_100710.mp3', 'data/webfiles-samples/audio/mj_telework_exchange_final_100710.mp3', '.mp3', '2023-10-29T18:56:50', '0253b2c7820143b28f4b1febaece205d', 3471488], ['000727.ram', 'data/webfiles-samples/audio/000727.ram', '.ram', '2023-10-29T18:56:50', '807f4a33e2198c1dd629c8902c37c535', 79], ['BudgetandGrants012710.ppt', 'data/webfiles-samples/presentation/BudgetandGrants012710.ppt', '.ppt', '2023-10-29T18:56:50', '4080ec664a2b4b14fec1826c42ccc3a3', 85504], ['ADAEMPLOYMENTTaxIncentives.ppt', 'data/webfiles-samples/presentation/ADAEMPLOYMENTTaxIncentives.ppt', '.ppt', '2023-10-29T18:56:50', 'f614356ebb35fa76d482709372237bd5', 137216], ['Non-FTE-Trainee-Activities-060109.ppt', 'data/webfiles-samples/presentation/Non-FTE-Trainee-Activities-060109.ppt', '.ppt', '2023-10-29T18:56:50', 'e71a83494f2565ee5168b7dc3d4de306', 67072]]\n"
     ]
    }
   ],
   "source": [
    "file_inventory = list()\n",
    "manifest_info = list()\n",
    "\n",
    "for foldername, subFolders, fileNames in os.walk('data/webfiles-samples'):\n",
    "    for filename in fileNames:\n",
    "        name = filename\n",
    "        # folder = foldername\n",
    "        relative_path = os.path.join(foldername, filename)\n",
    "        # print(relative_path)\n",
    "        # absolutePath = os.path.abspath(filename)\n",
    "        file_extension = os.path.splitext(filename)[1]\n",
    "        modification_time = datetime.datetime.strftime(datetime.datetime.fromtimestamp(os.path.getmtime(relative_path)), \"%Y-%m-%dT%H:%M:%S%Z\")\n",
    "        file_integrity = get_checksum(relative_path, 'md5')\n",
    "        size = os.path.getsize(relative_path)\n",
    "        # if os.path.isfile(path):\n",
    "        #     size = os.path.getsize(path)\n",
    "        #     print(size)\n",
    "        #     checksum = get_checksum(path, 'md5')\n",
    "        #     print(checksum)\n",
    "        file_inventory = [\n",
    "            name,\n",
    "            relative_path,\n",
    "            file_extension,\n",
    "            modification_time,\n",
    "            file_integrity,\n",
    "            size\n",
    "        ]\n",
    "        manifest_info.append(file_inventory)\n",
    "print(manifest_info)"
   ]
  },
  {
   "cell_type": "code",
   "execution_count": 52,
   "metadata": {},
   "outputs": [],
   "source": [
    "headers = [\n",
    "    'name',\n",
    "    'relative_path',\n",
    "    'file_extension',\n",
    "    'modification_time',\n",
    "    'file_integrity',\n",
    "    'size'\n",
    "]"
   ]
  },
  {
   "cell_type": "code",
   "execution_count": 53,
   "metadata": {},
   "outputs": [],
   "source": [
    "with open('file-inventory.csv', 'w') as f:\n",
    "    writer = csv.writer(f)\n",
    "    writer.writerow(headers)\n",
    "    for filename in manifest_info:\n",
    "        writer.writerow(filename)"
   ]
  }
 ],
 "metadata": {
  "kernelspec": {
   "display_name": "Python 3.9.6 64-bit",
   "language": "python",
   "name": "python3"
  },
  "language_info": {
   "codemirror_mode": {
    "name": "ipython",
    "version": 3
   },
   "file_extension": ".py",
   "mimetype": "text/x-python",
   "name": "python",
   "nbconvert_exporter": "python",
   "pygments_lexer": "ipython3",
   "version": "3.9.6"
  },
  "orig_nbformat": 4,
  "vscode": {
   "interpreter": {
    "hash": "31f2aee4e71d21fbe5cf8b01ff0e069b9275f58929596ceb00d14d90e3e16cd6"
   }
  }
 },
 "nbformat": 4,
 "nbformat_minor": 2
}
